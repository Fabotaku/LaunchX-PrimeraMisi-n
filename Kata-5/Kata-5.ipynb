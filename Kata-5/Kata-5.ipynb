{
 "cells": [
  {
   "cell_type": "markdown",
   "metadata": {},
   "source": [
    "Ejercicio 1-Utilizar operadores aritméticos\n",
    "Exploremos cómo podemos crear un programa que pueda calcular la distancia entre dos planetas. Comenzaremos usando dos distancias de planetas: Tierra (149.597.870 km) y Júpiter (778.547.200 km).\n",
    "Con los valores obtenidos, es el momento de añadir el código para realizar la operación. Restarás el primer planeta del segundo para determinar la distancia en kilómetros. A continuación, puedes convertir la distancia del kilómetro en millas multiplicándola por 0.621.\n"
   ]
  },
  {
   "cell_type": "code",
   "execution_count": null,
   "metadata": {},
   "outputs": [
    {
     "name": "stdout",
     "output_type": "stream",
     "text": [
      "La distancia de la Tierra es: 149597870km\n",
      "La distancia de Júpiter es: 778547200km\n",
      "La distancia entre ambos en km es: 628949330km\n",
      "La distancia entre ambos en millas es: 390577533.93millas\n"
     ]
    }
   ],
   "source": [
    "Tierra = 149597870\n",
    "Jupiter = 778547200\n",
    "\n",
    "distanciakm = Jupiter - Tierra\n",
    "distanciamillas = distanciakm * 0.621\n",
    "\n",
    "print(\"La distancia de la Tierra es: \" + str(Tierra) + \"km\")\n",
    "print(\"La distancia de Júpiter es: \" + str(Jupiter) + \"km\")\n",
    "print(\"La distancia entre ambos en km es: \"+ str(distanciakm) + \"km\")\n",
    "print(\"La distancia entre ambos en millas es: \"+ str(distanciamillas) + \"millas\")"
   ]
  },
  {
   "cell_type": "markdown",
   "metadata": {},
   "source": [
    "Ejercicio 2-Convierte cadenas en números y usa valores absolutos\n",
    "Crear una aplicación para trabajar con números y entrada de usuario\n",
    "Con frecuencia, deberás convertir los valores de cadena en números para realizar correctamente diferentes operaciones o determinar el valor absoluto de un número.\n",
    "\n",
    "Para crear nuestra aplicación, queremos leer la distancia del sol para dos planetas, y luego mostrar la distancia entre los planetas. Haremos esto usando input para leer los valores, int para convertir a entero y luego abs para convertir el resultado en su valor absoluto.\n"
   ]
  },
  {
   "cell_type": "code",
   "execution_count": 21,
   "metadata": {},
   "outputs": [
    {
     "name": "stdout",
     "output_type": "stream",
     "text": [
      "La distancia entre el planeta T y el planeta M es de: 4km\n",
      "La distancia entre el planeta T y el planeta M es de: 2.484millas\n"
     ]
    }
   ],
   "source": [
    "nombre1 = input(\"¿Cuál es el nombre del primer planeta?\")\n",
    "nombre2 = input(\"¿Cuál es el nombre del segundo planeta?\")\n",
    "\n",
    "distancia1 = input(\"¿Cuál es la distancia del planeta \" + nombre1 + \" respecto al sol?\")\n",
    "distancia2 = input(\"¿Cuál es la distancia del planeta \" + nombre2 + \" respecto al sol?\")\n",
    "\n",
    "distancia1 = int(distancia1)\n",
    "distancia2 = int(distancia2)\n",
    "\n",
    "distancia3 = distancia2 - distancia1\n",
    "\n",
    "print(\"La distancia entre el planeta \"+nombre1+ \" y el planeta \"+nombre2 + \" es de: \"+str(abs(distancia3)) +\"km\")\n",
    "print(\"La distancia entre el planeta \"+nombre1+ \" y el planeta \"+nombre2 + \" es de: \"+str(abs(distancia3*0.621)) +\"millas\")"
   ]
  }
 ],
 "metadata": {
  "interpreter": {
   "hash": "6d705a969e164f919499c6bfb94c476523c8df30ff2247541853f621f95586fc"
  },
  "kernelspec": {
   "display_name": "Python 3.9.10 64-bit (windows store)",
   "language": "python",
   "name": "python3"
  },
  "language_info": {
   "codemirror_mode": {
    "name": "ipython",
    "version": 3
   },
   "file_extension": ".py",
   "mimetype": "text/x-python",
   "name": "python",
   "nbconvert_exporter": "python",
   "pygments_lexer": "ipython3",
   "version": "3.9.10"
  },
  "orig_nbformat": 4
 },
 "nbformat": 4,
 "nbformat_minor": 2
}
